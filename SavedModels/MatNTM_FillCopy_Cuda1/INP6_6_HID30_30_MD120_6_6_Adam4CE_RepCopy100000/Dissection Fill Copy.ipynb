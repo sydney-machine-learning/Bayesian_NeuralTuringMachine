{
 "cells": [
  {
   "cell_type": "code",
   "execution_count": 1,
   "metadata": {},
   "outputs": [],
   "source": [
    "import torch\n",
    "import numpy as np"
   ]
  },
  {
   "cell_type": "code",
   "execution_count": 2,
   "metadata": {},
   "outputs": [
    {
     "name": "stdout",
     "output_type": "stream",
     "text": [
      "/home/animesh/Desktop/Research Project/MANNSuite/Matrix-NTM\n"
     ]
    }
   ],
   "source": [
    "cd '/home/animesh/Desktop/Research Project/MANNSuite/Matrix-NTM'"
   ]
  },
  {
   "cell_type": "code",
   "execution_count": 3,
   "metadata": {},
   "outputs": [],
   "source": [
    "MNTM = torch.load('/home/animesh/Desktop/Research Project/MANNSuite/Matrix-NTM/SavedModels/MatNTM_FillCopy_Cuda1/INP6_6_HID30_30_MD120_6_6_Adam4CE_RepCopy100000/MNTM.pth')"
   ]
  },
  {
   "cell_type": "code",
   "execution_count": 4,
   "metadata": {},
   "outputs": [],
   "source": [
    "import matplotlib.pyplot as plt"
   ]
  },
  {
   "cell_type": "code",
   "execution_count": 26,
   "metadata": {},
   "outputs": [],
   "source": [
    "\n",
    "\n",
    "\n",
    "\n",
    "def OneBatchSequence(seq_size = [4,5], item_size = 2, num_items = 15, query_num = 14, sample_range = [0.1,0.9]):\n",
    "    \n",
    "    #assert num_items > query_num\n",
    "    \n",
    "    limiter = torch.zeros([seq_size[0]+1, seq_size[1]])\n",
    "    limiter[-1,0] = 1.0\n",
    "    limiter[-1,-1] = 1.0\n",
    "    \n",
    "    \n",
    "    cat_list = []\n",
    "    for i in range(num_items):\n",
    "        \n",
    "        cat_list.append(limiter)\n",
    "        \n",
    "        content = torch.rand([seq_size[0]+1, seq_size[1] * item_size])\n",
    "        content[:-1,:][content[:-1,:] > 0.5] = 1.0\n",
    "        content[-1,:] = 0.0\n",
    "        content[content != 1] = 0.0\n",
    "        cat_list.append(content)\n",
    "        \n",
    "    \n",
    "    delimeter = torch.zeros([seq_size[0]+1, seq_size[1]])\n",
    "    delimeter[-1,1:-1] = 1.0\n",
    "    cat_list.append(delimeter)\n",
    "    \n",
    "    \n",
    "    start = seq_size[1]*query_num + (query_num - 1)*(seq_size[1]*(item_size))\n",
    "    stop = seq_size[1]*query_num + (query_num - 1)*(seq_size[1]*(item_size)) + (seq_size[1]*(item_size)) \n",
    "    \n",
    "    sequence = torch.cat(cat_list, dim = 1)\n",
    "    \n",
    "\n",
    "    \n",
    "    #Colouring sof delimiters\n",
    "    colours = torch.tensor(np.random.permutation(np.linspace(sample_range[0],sample_range[1],num=num_items+1)))\n",
    "    #print(colours)\n",
    "    for i in range(1,1+int(sequence.shape[1]/seq_size[1]),item_size+1):\n",
    "        #print(i//(item_size+1))\n",
    "        sequence[-1,i*5 - 5] *= colours[i//(item_size+1)]\n",
    "        sequence[-1,i*5 - 1] *= colours[i//(item_size+1)]\n",
    "            \n",
    "    \n",
    "    query = sequence[:,start-seq_size[1]:stop - seq_size[1]*(item_size) ]\n",
    "    expected_result = sequence[:,start  : stop   ] * float(query[-1,0])\n",
    "\n",
    "    \n",
    "    \n",
    "    finalsequence = torch.cat([sequence, query], dim = 1)\n",
    "    \n",
    "    \n",
    "    \n",
    "    return finalsequence, expected_result\n",
    "\n",
    "\n",
    "\n",
    "\n",
    "def GenRandBatchSeq(batch_size=32, seq_size = [4,5], item_size = 2, num_items = 15, device = None):\n",
    "    \n",
    "    seq_list = []\n",
    "    res_list = []\n",
    "    \n",
    "    \n",
    "    \n",
    "    for i in range(batch_size):\n",
    "        query_num = torch.randint(low=1, high=num_items+1, size=[])\n",
    "        seq, res = OneBatchSequence(seq_size=seq_size, item_size=item_size, num_items=num_items, query_num=query_num)\n",
    "        seq_list.append(seq.unsqueeze(0))\n",
    "        res_list.append(res.unsqueeze(0))\n",
    "    \n",
    "    seq_tensor = torch.cat(seq_list, dim=0)\n",
    "    res_tensor = torch.cat(res_list, dim=0)\n",
    "    \n",
    "    return seq_tensor.to(device), res_tensor.to(device)\n"
   ]
  },
  {
   "cell_type": "code",
   "execution_count": 27,
   "metadata": {},
   "outputs": [],
   "source": [
    "\n",
    "\n",
    "def Bit_Seq_Error(output , target, batch_size=16):\n",
    "    bit_output = output.detach().clone()\n",
    "    bit_output[bit_output >= 0.5] = 1.0\n",
    "    bit_output[bit_output != 1.0] = 0.0\n",
    "    bit_error = torch.sum((torch.abs(target - bit_output)) )/batch_size\n",
    "    return bit_error\n",
    "\n",
    "loss_func = torch.nn.BCELoss()\n",
    "\n",
    "\n"
   ]
  },
  {
   "cell_type": "code",
   "execution_count": 32,
   "metadata": {},
   "outputs": [
    {
     "name": "stdout",
     "output_type": "stream",
     "text": [
      "--->Number of Items:  10\n",
      "----->Loss: 1.0157493352890015\n"
     ]
    }
   ],
   "source": [
    "num_items = torch.randint(low=2, high=16, size=[])\n",
    "item_size = 3#int(torch.randint(low=2, high=4, size=[]))\n",
    "\n",
    "inp, out = GenRandBatchSeq(batch_size=16, seq_size=[4,5], item_size=item_size, num_items=num_items, device='cuda:0')\n",
    "#inp, out = MatrixCopyDataGen(32,[4,5],num_t)\n",
    "\n",
    "response_sheet = torch.zeros_like(out)\n",
    "\n",
    "\n",
    "print(\"--->Number of Items: \",int(num_items))\n",
    "\n",
    "MNTM.HiddenReset()\n",
    "\n",
    "MNTM.zero_grad()\n",
    "\n",
    "\n",
    "\n",
    "#Feeding the sequence\n",
    "#Input sequence is of length inp.shape[2]/5 \n",
    "\n",
    "num_sequences = int(inp.shape[2]/5)\n",
    "\n",
    "\n",
    "for t in range(1,num_sequences+1):\n",
    "    _ = MNTM(inp[:,:,(t-1)*5:t*5])\n",
    "                               #5 is the seq_size[1]                    \n",
    "\n",
    "#del inp\n",
    "#Taking Output from controller now, for backprop\n",
    "output = []\n",
    "                # 2 is the item_size\n",
    "for t in range(1,item_size+1):\n",
    "    MNTM_out = MNTM(response_sheet[:,:,(t-1)*5:t*5])\n",
    "    output.append(MNTM_out)\n",
    "\n",
    "#del response_sheet\n",
    "res = torch.cat(output, dim=2)\n",
    "\n",
    "loss = loss_func(res, out)\n",
    "\n",
    "bit_seq_error = Bit_Seq_Error(res, out, batch_size=16)\n",
    "\n",
    "print(\"----->Loss: {}\".format(loss))"
   ]
  },
  {
   "cell_type": "code",
   "execution_count": 29,
   "metadata": {},
   "outputs": [
    {
     "data": {
      "text/plain": [
       "<matplotlib.image.AxesImage at 0x7f574471dc10>"
      ]
     },
     "execution_count": 29,
     "metadata": {},
     "output_type": "execute_result"
    },
    {
     "data": {
      "image/png": "[encoded data removed]",
      "text/plain": [
       "<Figure size 432x288 with 1 Axes>"
      ]
     },
     "metadata": {
      "needs_background": "light"
     },
     "output_type": "display_data"
    }
   ],
   "source": [
    "plt.imshow(res[0].detach().cpu())"
   ]
  },
  {
   "cell_type": "code",
   "execution_count": 30,
   "metadata": {},
   "outputs": [
    {
     "data": {
      "text/plain": [
       "<matplotlib.image.AxesImage at 0x7f574465dd10>"
      ]
     },
     "execution_count": 30,
     "metadata": {},
     "output_type": "execute_result"
    },
    {
     "data": {
      "image/png": "[encoded data removed]",
      "text/plain": [
       "<Figure size 1440x864 with 1 Axes>"
      ]
     },
     "metadata": {
      "needs_background": "light"
     },
     "output_type": "display_data"
    }
   ],
   "source": [
    "plt.figure(figsize=(20,12))\n",
    "plt.imshow(inp[0].cpu())"
   ]
  },
  {
   "cell_type": "code",
   "execution_count": 31,
   "metadata": {},
   "outputs": [
    {
     "data": {
      "text/plain": [
       "<matplotlib.image.AxesImage at 0x7f574450dc50>"
      ]
     },
     "execution_count": 31,
     "metadata": {},
     "output_type": "execute_result"
    },
    {
     "data": {
      "image/png": "[encoded data removed]",
      "text/plain": [
       "<Figure size 432x288 with 1 Axes>"
      ]
     },
     "metadata": {
      "needs_background": "light"
     },
     "output_type": "display_data"
    }
   ],
   "source": [
    "plt.imshow(out[0].cpu())"
   ]
  },
  {
   "cell_type": "code",
   "execution_count": 19,
   "metadata": {},
   "outputs": [
    {
     "data": {
      "text/plain": [
       "tensor([[-0.0000, -0.0818, -0.0818, -0.0000, -0.0818, -0.0000, -0.0000, -0.0818,\n",
       "         -0.0000, -0.0000, -0.0818, -0.0000, -0.0000, -0.0818, -0.0000],\n",
       "        [-0.0818, -0.0818, -0.0000, -0.0000, -0.0818, -0.0000, -0.0818, -0.0000,\n",
       "         -0.0818, -0.0000, -0.0818, -0.0818, -0.0000, -0.0818, -0.0000],\n",
       "        [-0.0000, -0.0818, -0.0818, -0.0000, -0.0000, -0.0818, -0.0818, -0.0818,\n",
       "         -0.0000, -0.0818, -0.0000, -0.0818, -0.0000, -0.0818, -0.0000],\n",
       "        [-0.0818, -0.0000, -0.0818, -0.0000, -0.0818, -0.0818, -0.0818, -0.0818,\n",
       "         -0.0818, -0.0000, -0.0818, -0.0818, -0.0818, -0.0000, -0.0000],\n",
       "        [-0.0000, -0.0000, -0.0000, -0.0000, -0.0000, -0.0000, -0.0000, -0.0000,\n",
       "         -0.0000, -0.0000, -0.0000, -0.0000, -0.0000, -0.0000, -0.0000]],\n",
       "       device='cuda:0')"
      ]
     },
     "execution_count": 19,
     "metadata": {},
     "output_type": "execute_result"
    }
   ],
   "source": [
    "out[0]"
   ]
  },
  {
   "cell_type": "code",
   "execution_count": 20,
   "metadata": {},
   "outputs": [],
   "source": [
    "def CELoss(output, target):\n",
    "    return -torch.mean(target*torch.log(output) + (1-target)*torch.log(1-output))"
   ]
  },
  {
   "cell_type": "code",
   "execution_count": 21,
   "metadata": {},
   "outputs": [
    {
     "data": {
      "text/plain": [
       "tensor(-0.0045)"
      ]
     },
     "execution_count": 21,
     "metadata": {},
     "output_type": "execute_result"
    }
   ],
   "source": [
    "CELoss(res.detach().cpu(), out.detach().cpu())"
   ]
  },
  {
   "cell_type": "code",
   "execution_count": null,
   "metadata": {},
   "outputs": [],
   "source": []
  }
 ],
 "metadata": {
  "kernelspec": {
   "display_name": "Python 3",
   "language": "python",
   "name": "python3"
  },
  "language_info": {
   "codemirror_mode": {
    "name": "ipython",
    "version": 3
   },
   "file_extension": ".py",
   "mimetype": "text/x-python",
   "name": "python",
   "nbconvert_exporter": "python",
   "pygments_lexer": "ipython3",
   "version": "3.7.6"
  }
 },
 "nbformat": 4,
 "nbformat_minor": 4
}
